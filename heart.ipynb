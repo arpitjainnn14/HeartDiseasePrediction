{
 "cells": [
  {
   "cell_type": "markdown",
   "id": "918446e0",
   "metadata": {},
   "source": [
    "# Heart Disease Prediction"
   ]
  },
  {
   "cell_type": "code",
   "execution_count": 599,
   "id": "da3b12f9",
   "metadata": {},
   "outputs": [],
   "source": [
    "import pandas as pd\n",
    "import numpy as np\n",
    "import seaborn as sns\n",
    "import matplotlib.pyplot as plt\n",
    "from sklearn.compose import ColumnTransformer\n",
    "from sklearn.preprocessing import OneHotEncoder,LabelEncoder,StandardScaler,OrdinalEncoder\n",
    "from sklearn.model_selection import train_test_split\n",
    "from sklearn.pipeline import Pipeline\n",
    "from sklearn.metrics import accuracy_score,classification_report\n",
    "import warnings\n",
    "\n",
    "#Models\n",
    "from sklearn.linear_model import LogisticRegression\n",
    "from sklearn.tree import DecisionTreeClassifier\n",
    "from sklearn.ensemble import RandomForestClassifier\n",
    "from sklearn.neighbors import KNeighborsClassifier\n",
    "from sklearn.svm import SVC\n",
    "from sklearn.naive_bayes import GaussianNB\n",
    "from sklearn.ensemble import BaggingClassifier\n",
    "from sklearn.ensemble import VotingClassifier\n",
    "\n"
   ]
  },
  {
   "cell_type": "markdown",
   "id": "794569a7",
   "metadata": {},
   "source": [
    "#### EDA"
   ]
  },
  {
   "cell_type": "code",
   "execution_count": 600,
   "id": "9bf0fbb3",
   "metadata": {},
   "outputs": [],
   "source": [
    "df=pd.read_csv('heart.csv')"
   ]
  },
  {
   "cell_type": "code",
   "execution_count": 601,
   "id": "37e0e9c8",
   "metadata": {},
   "outputs": [
    {
     "data": {
      "application/vnd.microsoft.datawrangler.viewer.v0+json": {
       "columns": [
        {
         "name": "index",
         "rawType": "int64",
         "type": "integer"
        },
        {
         "name": "Age",
         "rawType": "int64",
         "type": "integer"
        },
        {
         "name": "Sex",
         "rawType": "object",
         "type": "string"
        },
        {
         "name": "ChestPainType",
         "rawType": "object",
         "type": "string"
        },
        {
         "name": "RestingBP",
         "rawType": "int64",
         "type": "integer"
        },
        {
         "name": "Cholesterol",
         "rawType": "int64",
         "type": "integer"
        },
        {
         "name": "FastingBS",
         "rawType": "int64",
         "type": "integer"
        },
        {
         "name": "RestingECG",
         "rawType": "object",
         "type": "string"
        },
        {
         "name": "MaxHR",
         "rawType": "int64",
         "type": "integer"
        },
        {
         "name": "ExerciseAngina",
         "rawType": "object",
         "type": "string"
        },
        {
         "name": "Oldpeak",
         "rawType": "float64",
         "type": "float"
        },
        {
         "name": "ST_Slope",
         "rawType": "object",
         "type": "string"
        },
        {
         "name": "HeartDisease",
         "rawType": "int64",
         "type": "integer"
        }
       ],
       "ref": "1f68f90f-172d-430c-bccd-3bd33785028b",
       "rows": [
        [
         "0",
         "40",
         "M",
         "ATA",
         "140",
         "289",
         "0",
         "Normal",
         "172",
         "N",
         "0.0",
         "Up",
         "0"
        ],
        [
         "1",
         "49",
         "F",
         "NAP",
         "160",
         "180",
         "0",
         "Normal",
         "156",
         "N",
         "1.0",
         "Flat",
         "1"
        ],
        [
         "2",
         "37",
         "M",
         "ATA",
         "130",
         "283",
         "0",
         "ST",
         "98",
         "N",
         "0.0",
         "Up",
         "0"
        ]
       ],
       "shape": {
        "columns": 12,
        "rows": 3
       }
      },
      "text/html": [
       "<div>\n",
       "<style scoped>\n",
       "    .dataframe tbody tr th:only-of-type {\n",
       "        vertical-align: middle;\n",
       "    }\n",
       "\n",
       "    .dataframe tbody tr th {\n",
       "        vertical-align: top;\n",
       "    }\n",
       "\n",
       "    .dataframe thead th {\n",
       "        text-align: right;\n",
       "    }\n",
       "</style>\n",
       "<table border=\"1\" class=\"dataframe\">\n",
       "  <thead>\n",
       "    <tr style=\"text-align: right;\">\n",
       "      <th></th>\n",
       "      <th>Age</th>\n",
       "      <th>Sex</th>\n",
       "      <th>ChestPainType</th>\n",
       "      <th>RestingBP</th>\n",
       "      <th>Cholesterol</th>\n",
       "      <th>FastingBS</th>\n",
       "      <th>RestingECG</th>\n",
       "      <th>MaxHR</th>\n",
       "      <th>ExerciseAngina</th>\n",
       "      <th>Oldpeak</th>\n",
       "      <th>ST_Slope</th>\n",
       "      <th>HeartDisease</th>\n",
       "    </tr>\n",
       "  </thead>\n",
       "  <tbody>\n",
       "    <tr>\n",
       "      <th>0</th>\n",
       "      <td>40</td>\n",
       "      <td>M</td>\n",
       "      <td>ATA</td>\n",
       "      <td>140</td>\n",
       "      <td>289</td>\n",
       "      <td>0</td>\n",
       "      <td>Normal</td>\n",
       "      <td>172</td>\n",
       "      <td>N</td>\n",
       "      <td>0.0</td>\n",
       "      <td>Up</td>\n",
       "      <td>0</td>\n",
       "    </tr>\n",
       "    <tr>\n",
       "      <th>1</th>\n",
       "      <td>49</td>\n",
       "      <td>F</td>\n",
       "      <td>NAP</td>\n",
       "      <td>160</td>\n",
       "      <td>180</td>\n",
       "      <td>0</td>\n",
       "      <td>Normal</td>\n",
       "      <td>156</td>\n",
       "      <td>N</td>\n",
       "      <td>1.0</td>\n",
       "      <td>Flat</td>\n",
       "      <td>1</td>\n",
       "    </tr>\n",
       "    <tr>\n",
       "      <th>2</th>\n",
       "      <td>37</td>\n",
       "      <td>M</td>\n",
       "      <td>ATA</td>\n",
       "      <td>130</td>\n",
       "      <td>283</td>\n",
       "      <td>0</td>\n",
       "      <td>ST</td>\n",
       "      <td>98</td>\n",
       "      <td>N</td>\n",
       "      <td>0.0</td>\n",
       "      <td>Up</td>\n",
       "      <td>0</td>\n",
       "    </tr>\n",
       "  </tbody>\n",
       "</table>\n",
       "</div>"
      ],
      "text/plain": [
       "   Age Sex ChestPainType  RestingBP  Cholesterol  FastingBS RestingECG  MaxHR  \\\n",
       "0   40   M           ATA        140          289          0     Normal    172   \n",
       "1   49   F           NAP        160          180          0     Normal    156   \n",
       "2   37   M           ATA        130          283          0         ST     98   \n",
       "\n",
       "  ExerciseAngina  Oldpeak ST_Slope  HeartDisease  \n",
       "0              N      0.0       Up             0  \n",
       "1              N      1.0     Flat             1  \n",
       "2              N      0.0       Up             0  "
      ]
     },
     "execution_count": 601,
     "metadata": {},
     "output_type": "execute_result"
    }
   ],
   "source": [
    "df.head(3)"
   ]
  },
  {
   "cell_type": "code",
   "execution_count": 602,
   "id": "3946bc25",
   "metadata": {},
   "outputs": [
    {
     "data": {
      "application/vnd.microsoft.datawrangler.viewer.v0+json": {
       "columns": [
        {
         "name": "index",
         "rawType": "object",
         "type": "string"
        },
        {
         "name": "0",
         "rawType": "int64",
         "type": "integer"
        }
       ],
       "ref": "cdc201d0-16b0-4c08-ae12-dd43b921fc7e",
       "rows": [
        [
         "Age",
         "0"
        ],
        [
         "Sex",
         "0"
        ],
        [
         "ChestPainType",
         "0"
        ],
        [
         "RestingBP",
         "0"
        ],
        [
         "Cholesterol",
         "0"
        ],
        [
         "FastingBS",
         "0"
        ],
        [
         "RestingECG",
         "0"
        ],
        [
         "MaxHR",
         "0"
        ],
        [
         "ExerciseAngina",
         "0"
        ],
        [
         "Oldpeak",
         "0"
        ],
        [
         "ST_Slope",
         "0"
        ],
        [
         "HeartDisease",
         "0"
        ]
       ],
       "shape": {
        "columns": 1,
        "rows": 12
       }
      },
      "text/plain": [
       "Age               0\n",
       "Sex               0\n",
       "ChestPainType     0\n",
       "RestingBP         0\n",
       "Cholesterol       0\n",
       "FastingBS         0\n",
       "RestingECG        0\n",
       "MaxHR             0\n",
       "ExerciseAngina    0\n",
       "Oldpeak           0\n",
       "ST_Slope          0\n",
       "HeartDisease      0\n",
       "dtype: int64"
      ]
     },
     "execution_count": 602,
     "metadata": {},
     "output_type": "execute_result"
    }
   ],
   "source": [
    "df.isnull().sum()"
   ]
  },
  {
   "cell_type": "code",
   "execution_count": 603,
   "id": "7b86cb6d",
   "metadata": {},
   "outputs": [
    {
     "data": {
      "text/plain": [
       "0"
      ]
     },
     "execution_count": 603,
     "metadata": {},
     "output_type": "execute_result"
    }
   ],
   "source": [
    "df.duplicated().sum()"
   ]
  },
  {
   "cell_type": "code",
   "execution_count": 604,
   "id": "bc003beb",
   "metadata": {},
   "outputs": [
    {
     "name": "stdout",
     "output_type": "stream",
     "text": [
      "<class 'pandas.core.frame.DataFrame'>\n",
      "RangeIndex: 918 entries, 0 to 917\n",
      "Data columns (total 12 columns):\n",
      " #   Column          Non-Null Count  Dtype  \n",
      "---  ------          --------------  -----  \n",
      " 0   Age             918 non-null    int64  \n",
      " 1   Sex             918 non-null    object \n",
      " 2   ChestPainType   918 non-null    object \n",
      " 3   RestingBP       918 non-null    int64  \n",
      " 4   Cholesterol     918 non-null    int64  \n",
      " 5   FastingBS       918 non-null    int64  \n",
      " 6   RestingECG      918 non-null    object \n",
      " 7   MaxHR           918 non-null    int64  \n",
      " 8   ExerciseAngina  918 non-null    object \n",
      " 9   Oldpeak         918 non-null    float64\n",
      " 10  ST_Slope        918 non-null    object \n",
      " 11  HeartDisease    918 non-null    int64  \n",
      "dtypes: float64(1), int64(6), object(5)\n",
      "memory usage: 86.2+ KB\n"
     ]
    }
   ],
   "source": [
    "df.info()"
   ]
  },
  {
   "cell_type": "code",
   "execution_count": 605,
   "id": "4b8fba1f",
   "metadata": {},
   "outputs": [
    {
     "data": {
      "application/vnd.microsoft.datawrangler.viewer.v0+json": {
       "columns": [
        {
         "name": "index",
         "rawType": "object",
         "type": "string"
        },
        {
         "name": "Age",
         "rawType": "float64",
         "type": "float"
        },
        {
         "name": "RestingBP",
         "rawType": "float64",
         "type": "float"
        },
        {
         "name": "Cholesterol",
         "rawType": "float64",
         "type": "float"
        },
        {
         "name": "FastingBS",
         "rawType": "float64",
         "type": "float"
        },
        {
         "name": "MaxHR",
         "rawType": "float64",
         "type": "float"
        },
        {
         "name": "Oldpeak",
         "rawType": "float64",
         "type": "float"
        },
        {
         "name": "HeartDisease",
         "rawType": "float64",
         "type": "float"
        }
       ],
       "ref": "cd9f112a-04fa-470a-bccd-417a22c4bc33",
       "rows": [
        [
         "count",
         "918.0",
         "918.0",
         "918.0",
         "918.0",
         "918.0",
         "918.0",
         "918.0"
        ],
        [
         "mean",
         "53.510893246187365",
         "132.39651416122004",
         "198.7995642701525",
         "0.23311546840958605",
         "136.80936819172112",
         "0.8873638344226579",
         "0.5533769063180828"
        ],
        [
         "std",
         "9.43261650673201",
         "18.5141541199078",
         "109.38414455220348",
         "0.423045624739303",
         "25.4603341382503",
         "1.0665701510493257",
         "0.4974137382845968"
        ],
        [
         "min",
         "28.0",
         "0.0",
         "0.0",
         "0.0",
         "60.0",
         "-2.6",
         "0.0"
        ],
        [
         "25%",
         "47.0",
         "120.0",
         "173.25",
         "0.0",
         "120.0",
         "0.0",
         "0.0"
        ],
        [
         "50%",
         "54.0",
         "130.0",
         "223.0",
         "0.0",
         "138.0",
         "0.6",
         "1.0"
        ],
        [
         "75%",
         "60.0",
         "140.0",
         "267.0",
         "0.0",
         "156.0",
         "1.5",
         "1.0"
        ],
        [
         "max",
         "77.0",
         "200.0",
         "603.0",
         "1.0",
         "202.0",
         "6.2",
         "1.0"
        ]
       ],
       "shape": {
        "columns": 7,
        "rows": 8
       }
      },
      "text/html": [
       "<div>\n",
       "<style scoped>\n",
       "    .dataframe tbody tr th:only-of-type {\n",
       "        vertical-align: middle;\n",
       "    }\n",
       "\n",
       "    .dataframe tbody tr th {\n",
       "        vertical-align: top;\n",
       "    }\n",
       "\n",
       "    .dataframe thead th {\n",
       "        text-align: right;\n",
       "    }\n",
       "</style>\n",
       "<table border=\"1\" class=\"dataframe\">\n",
       "  <thead>\n",
       "    <tr style=\"text-align: right;\">\n",
       "      <th></th>\n",
       "      <th>Age</th>\n",
       "      <th>RestingBP</th>\n",
       "      <th>Cholesterol</th>\n",
       "      <th>FastingBS</th>\n",
       "      <th>MaxHR</th>\n",
       "      <th>Oldpeak</th>\n",
       "      <th>HeartDisease</th>\n",
       "    </tr>\n",
       "  </thead>\n",
       "  <tbody>\n",
       "    <tr>\n",
       "      <th>count</th>\n",
       "      <td>918.000000</td>\n",
       "      <td>918.000000</td>\n",
       "      <td>918.000000</td>\n",
       "      <td>918.000000</td>\n",
       "      <td>918.000000</td>\n",
       "      <td>918.000000</td>\n",
       "      <td>918.000000</td>\n",
       "    </tr>\n",
       "    <tr>\n",
       "      <th>mean</th>\n",
       "      <td>53.510893</td>\n",
       "      <td>132.396514</td>\n",
       "      <td>198.799564</td>\n",
       "      <td>0.233115</td>\n",
       "      <td>136.809368</td>\n",
       "      <td>0.887364</td>\n",
       "      <td>0.553377</td>\n",
       "    </tr>\n",
       "    <tr>\n",
       "      <th>std</th>\n",
       "      <td>9.432617</td>\n",
       "      <td>18.514154</td>\n",
       "      <td>109.384145</td>\n",
       "      <td>0.423046</td>\n",
       "      <td>25.460334</td>\n",
       "      <td>1.066570</td>\n",
       "      <td>0.497414</td>\n",
       "    </tr>\n",
       "    <tr>\n",
       "      <th>min</th>\n",
       "      <td>28.000000</td>\n",
       "      <td>0.000000</td>\n",
       "      <td>0.000000</td>\n",
       "      <td>0.000000</td>\n",
       "      <td>60.000000</td>\n",
       "      <td>-2.600000</td>\n",
       "      <td>0.000000</td>\n",
       "    </tr>\n",
       "    <tr>\n",
       "      <th>25%</th>\n",
       "      <td>47.000000</td>\n",
       "      <td>120.000000</td>\n",
       "      <td>173.250000</td>\n",
       "      <td>0.000000</td>\n",
       "      <td>120.000000</td>\n",
       "      <td>0.000000</td>\n",
       "      <td>0.000000</td>\n",
       "    </tr>\n",
       "    <tr>\n",
       "      <th>50%</th>\n",
       "      <td>54.000000</td>\n",
       "      <td>130.000000</td>\n",
       "      <td>223.000000</td>\n",
       "      <td>0.000000</td>\n",
       "      <td>138.000000</td>\n",
       "      <td>0.600000</td>\n",
       "      <td>1.000000</td>\n",
       "    </tr>\n",
       "    <tr>\n",
       "      <th>75%</th>\n",
       "      <td>60.000000</td>\n",
       "      <td>140.000000</td>\n",
       "      <td>267.000000</td>\n",
       "      <td>0.000000</td>\n",
       "      <td>156.000000</td>\n",
       "      <td>1.500000</td>\n",
       "      <td>1.000000</td>\n",
       "    </tr>\n",
       "    <tr>\n",
       "      <th>max</th>\n",
       "      <td>77.000000</td>\n",
       "      <td>200.000000</td>\n",
       "      <td>603.000000</td>\n",
       "      <td>1.000000</td>\n",
       "      <td>202.000000</td>\n",
       "      <td>6.200000</td>\n",
       "      <td>1.000000</td>\n",
       "    </tr>\n",
       "  </tbody>\n",
       "</table>\n",
       "</div>"
      ],
      "text/plain": [
       "              Age   RestingBP  Cholesterol   FastingBS       MaxHR  \\\n",
       "count  918.000000  918.000000   918.000000  918.000000  918.000000   \n",
       "mean    53.510893  132.396514   198.799564    0.233115  136.809368   \n",
       "std      9.432617   18.514154   109.384145    0.423046   25.460334   \n",
       "min     28.000000    0.000000     0.000000    0.000000   60.000000   \n",
       "25%     47.000000  120.000000   173.250000    0.000000  120.000000   \n",
       "50%     54.000000  130.000000   223.000000    0.000000  138.000000   \n",
       "75%     60.000000  140.000000   267.000000    0.000000  156.000000   \n",
       "max     77.000000  200.000000   603.000000    1.000000  202.000000   \n",
       "\n",
       "          Oldpeak  HeartDisease  \n",
       "count  918.000000    918.000000  \n",
       "mean     0.887364      0.553377  \n",
       "std      1.066570      0.497414  \n",
       "min     -2.600000      0.000000  \n",
       "25%      0.000000      0.000000  \n",
       "50%      0.600000      1.000000  \n",
       "75%      1.500000      1.000000  \n",
       "max      6.200000      1.000000  "
      ]
     },
     "execution_count": 605,
     "metadata": {},
     "output_type": "execute_result"
    }
   ],
   "source": [
    "df.describe()"
   ]
  },
  {
   "cell_type": "code",
   "execution_count": 606,
   "id": "22ea2ac2",
   "metadata": {},
   "outputs": [
    {
     "data": {
      "application/vnd.microsoft.datawrangler.viewer.v0+json": {
       "columns": [
        {
         "name": "index",
         "rawType": "object",
         "type": "string"
        },
        {
         "name": "Sex",
         "rawType": "object",
         "type": "unknown"
        },
        {
         "name": "ChestPainType",
         "rawType": "object",
         "type": "unknown"
        },
        {
         "name": "RestingECG",
         "rawType": "object",
         "type": "unknown"
        },
        {
         "name": "ExerciseAngina",
         "rawType": "object",
         "type": "unknown"
        },
        {
         "name": "ST_Slope",
         "rawType": "object",
         "type": "unknown"
        }
       ],
       "ref": "9e523c84-bb64-424c-88b4-d39dcfe9d1ba",
       "rows": [
        [
         "count",
         "918",
         "918",
         "918",
         "918",
         "918"
        ],
        [
         "unique",
         "2",
         "4",
         "3",
         "2",
         "3"
        ],
        [
         "top",
         "M",
         "ASY",
         "Normal",
         "N",
         "Flat"
        ],
        [
         "freq",
         "725",
         "496",
         "552",
         "547",
         "460"
        ]
       ],
       "shape": {
        "columns": 5,
        "rows": 4
       }
      },
      "text/html": [
       "<div>\n",
       "<style scoped>\n",
       "    .dataframe tbody tr th:only-of-type {\n",
       "        vertical-align: middle;\n",
       "    }\n",
       "\n",
       "    .dataframe tbody tr th {\n",
       "        vertical-align: top;\n",
       "    }\n",
       "\n",
       "    .dataframe thead th {\n",
       "        text-align: right;\n",
       "    }\n",
       "</style>\n",
       "<table border=\"1\" class=\"dataframe\">\n",
       "  <thead>\n",
       "    <tr style=\"text-align: right;\">\n",
       "      <th></th>\n",
       "      <th>Sex</th>\n",
       "      <th>ChestPainType</th>\n",
       "      <th>RestingECG</th>\n",
       "      <th>ExerciseAngina</th>\n",
       "      <th>ST_Slope</th>\n",
       "    </tr>\n",
       "  </thead>\n",
       "  <tbody>\n",
       "    <tr>\n",
       "      <th>count</th>\n",
       "      <td>918</td>\n",
       "      <td>918</td>\n",
       "      <td>918</td>\n",
       "      <td>918</td>\n",
       "      <td>918</td>\n",
       "    </tr>\n",
       "    <tr>\n",
       "      <th>unique</th>\n",
       "      <td>2</td>\n",
       "      <td>4</td>\n",
       "      <td>3</td>\n",
       "      <td>2</td>\n",
       "      <td>3</td>\n",
       "    </tr>\n",
       "    <tr>\n",
       "      <th>top</th>\n",
       "      <td>M</td>\n",
       "      <td>ASY</td>\n",
       "      <td>Normal</td>\n",
       "      <td>N</td>\n",
       "      <td>Flat</td>\n",
       "    </tr>\n",
       "    <tr>\n",
       "      <th>freq</th>\n",
       "      <td>725</td>\n",
       "      <td>496</td>\n",
       "      <td>552</td>\n",
       "      <td>547</td>\n",
       "      <td>460</td>\n",
       "    </tr>\n",
       "  </tbody>\n",
       "</table>\n",
       "</div>"
      ],
      "text/plain": [
       "        Sex ChestPainType RestingECG ExerciseAngina ST_Slope\n",
       "count   918           918        918            918      918\n",
       "unique    2             4          3              2        3\n",
       "top       M           ASY     Normal              N     Flat\n",
       "freq    725           496        552            547      460"
      ]
     },
     "execution_count": 606,
     "metadata": {},
     "output_type": "execute_result"
    }
   ],
   "source": [
    "df.describe(include='object')"
   ]
  },
  {
   "cell_type": "code",
   "execution_count": 607,
   "id": "aee722a6",
   "metadata": {},
   "outputs": [
    {
     "data": {
      "text/plain": [
       "Index(['Age', 'Sex', 'ChestPainType', 'RestingBP', 'Cholesterol', 'FastingBS',\n",
       "       'RestingECG', 'MaxHR', 'ExerciseAngina', 'Oldpeak', 'ST_Slope',\n",
       "       'HeartDisease'],\n",
       "      dtype='object')"
      ]
     },
     "execution_count": 607,
     "metadata": {},
     "output_type": "execute_result"
    }
   ],
   "source": [
    "df.columns"
   ]
  },
  {
   "cell_type": "code",
   "execution_count": 608,
   "id": "c66a669e",
   "metadata": {},
   "outputs": [
    {
     "data": {
      "application/vnd.microsoft.datawrangler.viewer.v0+json": {
       "columns": [
        {
         "name": "Sex",
         "rawType": "object",
         "type": "string"
        },
        {
         "name": "count",
         "rawType": "int64",
         "type": "integer"
        }
       ],
       "ref": "f1d2b783-c903-4cfa-8309-b4ca2340b81b",
       "rows": [
        [
         "M",
         "725"
        ],
        [
         "F",
         "193"
        ]
       ],
       "shape": {
        "columns": 1,
        "rows": 2
       }
      },
      "text/plain": [
       "Sex\n",
       "M    725\n",
       "F    193\n",
       "Name: count, dtype: int64"
      ]
     },
     "execution_count": 608,
     "metadata": {},
     "output_type": "execute_result"
    }
   ],
   "source": [
    "df['Sex'].value_counts()"
   ]
  },
  {
   "cell_type": "code",
   "execution_count": 609,
   "id": "b5b86277",
   "metadata": {},
   "outputs": [
    {
     "data": {
      "application/vnd.microsoft.datawrangler.viewer.v0+json": {
       "columns": [
        {
         "name": "HeartDisease",
         "rawType": "int64",
         "type": "integer"
        },
        {
         "name": "proportion",
         "rawType": "float64",
         "type": "float"
        }
       ],
       "ref": "96ca8ec8-859c-423c-886a-9bbdeb8cb1d3",
       "rows": [
        [
         "1",
         "55.34"
        ],
        [
         "0",
         "44.66"
        ]
       ],
       "shape": {
        "columns": 1,
        "rows": 2
       }
      },
      "text/plain": [
       "HeartDisease\n",
       "1    55.34\n",
       "0    44.66\n",
       "Name: proportion, dtype: float64"
      ]
     },
     "execution_count": 609,
     "metadata": {},
     "output_type": "execute_result"
    }
   ],
   "source": [
    "round(df['HeartDisease'].value_counts(normalize=True)*100,2)"
   ]
  },
  {
   "cell_type": "markdown",
   "id": "5bc88301",
   "metadata": {},
   "source": [
    "#### Normal Distribution check"
   ]
  },
  {
   "cell_type": "code",
   "execution_count": null,
   "id": "953a4d96",
   "metadata": {},
   "outputs": [],
   "source": [
    "for col in df.columns:\n",
    "    sns.plot(x=df[col],y=df['HeartDisease'])"
   ]
  },
  {
   "cell_type": "markdown",
   "id": "b700a026",
   "metadata": {},
   "source": [
    "#### Outlier Detection"
   ]
  },
  {
   "cell_type": "code",
   "execution_count": 610,
   "id": "b1657d26",
   "metadata": {},
   "outputs": [
    {
     "data": {
      "image/png": "[encoded data removed]",
      "text/plain": [
       "<Figure size 640x480 with 1 Axes>"
      ]
     },
     "metadata": {},
     "output_type": "display_data"
    },
    {
     "data": {
      "image/png": "[encoded data removed]",
      "text/plain": [
       "<Figure size 640x480 with 1 Axes>"
      ]
     },
     "metadata": {},
     "output_type": "display_data"
    },
    {
     "data": {
      "image/png": "[encoded data removed]",
      "text/plain": [
       "<Figure size 640x480 with 1 Axes>"
      ]
     },
     "metadata": {},
     "output_type": "display_data"
    },
    {
     "data": {
      "image/png": "[encoded data removed]",
      "text/plain": [
       "<Figure size 640x480 with 1 Axes>"
      ]
     },
     "metadata": {},
     "output_type": "display_data"
    },
    {
     "data": {
      "image/png": "[encoded data removed]",
      "text/plain": [
       "<Figure size 640x480 with 1 Axes>"
      ]
     },
     "metadata": {},
     "output_type": "display_data"
    },
    {
     "data": {
      "image/png": "[encoded data removed]",
      "text/plain": [
       "<Figure size 640x480 with 1 Axes>"
      ]
     },
     "metadata": {},
     "output_type": "display_data"
    },
    {
     "data": {
      "image/png": "[encoded data removed]",
      "text/plain": [
       "<Figure size 640x480 with 1 Axes>"
      ]
     },
     "metadata": {},
     "output_type": "display_data"
    },
    {
     "data": {
      "image/png": "[encoded data removed]",
      "text/plain": [
       "<Figure size 640x480 with 1 Axes>"
      ]
     },
     "metadata": {},
     "output_type": "display_data"
    },
    {
     "data": {
      "image/png": "[encoded data removed]",
      "text/plain": [
       "<Figure size 640x480 with 1 Axes>"
      ]
     },
     "metadata": {},
     "output_type": "display_data"
    },
    {
     "data": {
      "image/png": "[encoded data removed]",
      "text/plain": [
       "<Figure size 640x480 with 1 Axes>"
      ]
     },
     "metadata": {},
     "output_type": "display_data"
    },
    {
     "data": {
      "image/png": "[encoded data removed]",
      "text/plain": [
       "<Figure size 640x480 with 1 Axes>"
      ]
     },
     "metadata": {},
     "output_type": "display_data"
    },
    {
     "data": {
      "image/png": "[encoded data removed]",
      "text/plain": [
       "<Figure size 640x480 with 1 Axes>"
      ]
     },
     "metadata": {},
     "output_type": "display_data"
    }
   ],
   "source": [
    "for col in df.columns:\n",
    "    sns.boxplot(y=df[col])\n",
    "    plt.show()"
   ]
  },
  {
   "cell_type": "code",
   "execution_count": null,
   "id": "baa9982d",
   "metadata": {},
   "outputs": [],
   "source": [
    "cols=df['RestingBP','Cholesterol']\n",
    "df['Cholesterol']"
   ]
  },
  {
   "cell_type": "markdown",
   "id": "c072e6f2",
   "metadata": {},
   "source": [
    "#### Encoding"
   ]
  },
  {
   "cell_type": "code",
   "execution_count": 611,
   "id": "598e1f1a",
   "metadata": {},
   "outputs": [],
   "source": [
    "one_hot_cols=['ChestPainType','RestingECG']\n",
    "ordinal_col=['ST_Slope']\n",
    "ordinal_mapping=[['Down','Flat','Up']]\n",
    "numeric_cols=['Age', 'RestingBP', 'Cholesterol', 'MaxHR', 'Oldpeak']\n",
    "label_cols=['Sex','ExerciseAngina']"
   ]
  },
  {
   "cell_type": "code",
   "execution_count": 612,
   "id": "e903482a",
   "metadata": {},
   "outputs": [],
   "source": [
    "df['Sex'] = LabelEncoder().fit_transform(df['Sex'])\n",
    "df['ExerciseAngina'] = LabelEncoder().fit_transform(df['ExerciseAngina'])\n"
   ]
  },
  {
   "cell_type": "code",
   "execution_count": 613,
   "id": "bcd8a54a",
   "metadata": {},
   "outputs": [],
   "source": [
    "preprocessor=ColumnTransformer(transformers=[\n",
    "    ('num',StandardScaler(),numeric_cols),\n",
    "    ('onehot',OneHotEncoder(),one_hot_cols),\n",
    "    ('ordinal',OrdinalEncoder(categories=ordinal_mapping),ordinal_col),\n",
    "    ('label','passthrough',label_cols)\n",
    "])"
   ]
  },
  {
   "cell_type": "markdown",
   "id": "f475224c",
   "metadata": {},
   "source": [
    "#### Training"
   ]
  },
  {
   "cell_type": "code",
   "execution_count": 614,
   "id": "074cfbcc",
   "metadata": {},
   "outputs": [],
   "source": [
    "X=df.drop('HeartDisease',axis=1)\n",
    "y=df['HeartDisease']"
   ]
  },
  {
   "cell_type": "code",
   "execution_count": 615,
   "id": "192f6f67",
   "metadata": {},
   "outputs": [],
   "source": [
    "X_train,X_test,y_train,y_test=train_test_split(X,y,test_size=0.2,random_state=42,stratify=y)"
   ]
  },
  {
   "cell_type": "markdown",
   "id": "434f4dec",
   "metadata": {},
   "source": [
    "#### Individual Model Prediction"
   ]
  },
  {
   "cell_type": "code",
   "execution_count": 616,
   "id": "1620a040",
   "metadata": {},
   "outputs": [],
   "source": [
    "models={\n",
    "    \"lr\":LogisticRegression(max_iter=1000),\n",
    "    'dt':DecisionTreeClassifier(),\n",
    "    'rf':RandomForestClassifier(),\n",
    "    'svm':SVC(probability=True),\n",
    "    'naive bayes':GaussianNB(),\n",
    "    'Knn':KNeighborsClassifier()\n",
    "}"
   ]
  },
  {
   "cell_type": "code",
   "execution_count": 617,
   "id": "8ad7aa27",
   "metadata": {},
   "outputs": [
    {
     "name": "stdout",
     "output_type": "stream",
     "text": [
      "Model Name:lr\n",
      "✅ Accuracy: 0.8750\n",
      "📊 Classification Report:\n",
      "              precision    recall  f1-score   support\n",
      "\n",
      "           0       0.88      0.83      0.86        82\n",
      "           1       0.87      0.91      0.89       102\n",
      "\n",
      "    accuracy                           0.88       184\n",
      "   macro avg       0.88      0.87      0.87       184\n",
      "weighted avg       0.88      0.88      0.87       184\n",
      "\n",
      "Model Name:dt\n",
      "✅ Accuracy: 0.7609\n",
      "📊 Classification Report:\n",
      "              precision    recall  f1-score   support\n",
      "\n",
      "           0       0.73      0.74      0.73        82\n",
      "           1       0.79      0.77      0.78       102\n",
      "\n",
      "    accuracy                           0.76       184\n",
      "   macro avg       0.76      0.76      0.76       184\n",
      "weighted avg       0.76      0.76      0.76       184\n",
      "\n",
      "Model Name:rf\n",
      "✅ Accuracy: 0.8967\n",
      "📊 Classification Report:\n",
      "              precision    recall  f1-score   support\n",
      "\n",
      "           0       0.89      0.88      0.88        82\n",
      "           1       0.90      0.91      0.91       102\n",
      "\n",
      "    accuracy                           0.90       184\n",
      "   macro avg       0.90      0.89      0.90       184\n",
      "weighted avg       0.90      0.90      0.90       184\n",
      "\n",
      "Model Name:svm\n",
      "✅ Accuracy: 0.8804\n",
      "📊 Classification Report:\n",
      "              precision    recall  f1-score   support\n",
      "\n",
      "           0       0.92      0.80      0.86        82\n",
      "           1       0.86      0.94      0.90       102\n",
      "\n",
      "    accuracy                           0.88       184\n",
      "   macro avg       0.89      0.87      0.88       184\n",
      "weighted avg       0.88      0.88      0.88       184\n",
      "\n",
      "Model Name:naive bayes\n",
      "✅ Accuracy: 0.8804\n",
      "📊 Classification Report:\n",
      "              precision    recall  f1-score   support\n",
      "\n",
      "           0       0.86      0.88      0.87        82\n",
      "           1       0.90      0.88      0.89       102\n",
      "\n",
      "    accuracy                           0.88       184\n",
      "   macro avg       0.88      0.88      0.88       184\n",
      "weighted avg       0.88      0.88      0.88       184\n",
      "\n",
      "Model Name:Knn\n",
      "✅ Accuracy: 0.8967\n",
      "📊 Classification Report:\n",
      "              precision    recall  f1-score   support\n",
      "\n",
      "           0       0.90      0.87      0.88        82\n",
      "           1       0.90      0.92      0.91       102\n",
      "\n",
      "    accuracy                           0.90       184\n",
      "   macro avg       0.90      0.89      0.90       184\n",
      "weighted avg       0.90      0.90      0.90       184\n",
      "\n"
     ]
    }
   ],
   "source": [
    "for name, model in models.items():\n",
    "    print(f'Model Name:{name}')\n",
    "\n",
    "    pipe=Pipeline(steps=[\n",
    "        ('preprocessing',preprocessor),\n",
    "        ('classifier',model)\n",
    "    ])\n",
    "\n",
    "    pipe.fit(X_train,y_train)\n",
    "    y_pred=pipe.predict(X_test)\n",
    "\n",
    "    print(f\"✅ Accuracy: {accuracy_score(y_test, y_pred):.4f}\")\n",
    "    print(\"📊 Classification Report:\")\n",
    "    print(classification_report(y_test, y_pred))\n",
    "    "
   ]
  },
  {
   "cell_type": "markdown",
   "id": "793d2fbd",
   "metadata": {},
   "source": [
    "#### Now Predicting using Voting Classifier "
   ]
  },
  {
   "cell_type": "code",
   "execution_count": 618,
   "id": "37f9489d",
   "metadata": {},
   "outputs": [
    {
     "name": "stdout",
     "output_type": "stream",
     "text": [
      "Soft Accuracy Score: 0.8913043478260869\n",
      "Hard Accuracy Score: 0.9239130434782609\n"
     ]
    }
   ],
   "source": [
    "voting_type=['soft','hard']\n",
    "for i in voting_type:\n",
    "\n",
    "    voting_model=VotingClassifier(estimators=[\n",
    "        ('lr',LogisticRegression(max_iter=1000)),\n",
    "        ('rf',RandomForestClassifier()),\n",
    "        ('svm',SVC(probability=True)),\n",
    "        ('knn',KNeighborsClassifier()),\n",
    "        ('dt',DecisionTreeClassifier()),\n",
    "        ('Naive Bayes',GaussianNB())],\n",
    "\n",
    "        voting=i\n",
    "    )\n",
    "\n",
    "    pipe=Pipeline(steps=[\n",
    "        ('preprocessing',preprocessor),\n",
    "        ('classifier',voting_model)\n",
    "    ])\n",
    "\n",
    "    pipe.fit(X_train,y_train)\n",
    "    y_pred=pipe.predict(X_test)\n",
    "\n",
    "    print(f'{i.capitalize()} Accuracy Score:',accuracy_score(y_pred,y_test))"
   ]
  },
  {
   "cell_type": "markdown",
   "id": "4607d766",
   "metadata": {},
   "source": [
    "#### Now Predicting using Bagging Classifier"
   ]
  },
  {
   "cell_type": "code",
   "execution_count": 619,
   "id": "d267a710",
   "metadata": {},
   "outputs": [],
   "source": [
    "base_estimators={\n",
    "    \"lr\":LogisticRegression(max_iter=1000),\n",
    "    'dt':DecisionTreeClassifier(),\n",
    "    'rf':RandomForestClassifier(),\n",
    "    'svm':SVC(probability=True),\n",
    "    'naive bayes':GaussianNB(),\n",
    "    'Knn':KNeighborsClassifier()\n",
    "    \n",
    "}"
   ]
  },
  {
   "cell_type": "code",
   "execution_count": 620,
   "id": "b1c359fb",
   "metadata": {},
   "outputs": [
    {
     "name": "stdout",
     "output_type": "stream",
     "text": [
      "Your Base Model is lr.\n",
      "Accuracy of lr is: 0.88\n",
      "              precision    recall  f1-score   support\n",
      "\n",
      "           0       0.88      0.84      0.86        82\n",
      "           1       0.88      0.91      0.89       102\n",
      "\n",
      "    accuracy                           0.88       184\n",
      "   macro avg       0.88      0.88      0.88       184\n",
      "weighted avg       0.88      0.88      0.88       184\n",
      "\n",
      "Your Base Model is dt.\n",
      "Accuracy of dt is: 0.848\n",
      "              precision    recall  f1-score   support\n",
      "\n",
      "           0       0.86      0.79      0.82        82\n",
      "           1       0.84      0.89      0.87       102\n",
      "\n",
      "    accuracy                           0.85       184\n",
      "   macro avg       0.85      0.84      0.84       184\n",
      "weighted avg       0.85      0.85      0.85       184\n",
      "\n",
      "Your Base Model is rf.\n",
      "Accuracy of rf is: 0.908\n",
      "              precision    recall  f1-score   support\n",
      "\n",
      "           0       0.91      0.88      0.89        82\n",
      "           1       0.90      0.93      0.92       102\n",
      "\n",
      "    accuracy                           0.91       184\n",
      "   macro avg       0.91      0.90      0.91       184\n",
      "weighted avg       0.91      0.91      0.91       184\n",
      "\n",
      "Your Base Model is svm.\n",
      "Accuracy of svm is: 0.88\n",
      "              precision    recall  f1-score   support\n",
      "\n",
      "           0       0.92      0.80      0.86        82\n",
      "           1       0.86      0.94      0.90       102\n",
      "\n",
      "    accuracy                           0.88       184\n",
      "   macro avg       0.89      0.87      0.88       184\n",
      "weighted avg       0.88      0.88      0.88       184\n",
      "\n",
      "Your Base Model is naive bayes.\n",
      "Accuracy of naive bayes is: 0.897\n",
      "              precision    recall  f1-score   support\n",
      "\n",
      "           0       0.88      0.89      0.88        82\n",
      "           1       0.91      0.90      0.91       102\n",
      "\n",
      "    accuracy                           0.90       184\n",
      "   macro avg       0.90      0.90      0.90       184\n",
      "weighted avg       0.90      0.90      0.90       184\n",
      "\n",
      "Your Base Model is Knn.\n",
      "Accuracy of Knn is: 0.891\n",
      "              precision    recall  f1-score   support\n",
      "\n",
      "           0       0.89      0.87      0.88        82\n",
      "           1       0.89      0.91      0.90       102\n",
      "\n",
      "    accuracy                           0.89       184\n",
      "   macro avg       0.89      0.89      0.89       184\n",
      "weighted avg       0.89      0.89      0.89       184\n",
      "\n"
     ]
    }
   ],
   "source": [
    "warnings.filterwarnings(\"ignore\")\n",
    "\n",
    "for name,base_model in base_estimators.items():\n",
    "    print(f'Your Base Model is {name}.')\n",
    "\n",
    "    bagging_model=BaggingClassifier(base_estimator=base_model,n_estimators=15,random_state=42)\n",
    "\n",
    "    pipe=Pipeline(steps=[\n",
    "        ('preprocessing',preprocessor),\n",
    "        ('classifier',bagging_model)\n",
    "    ])\n",
    "\n",
    "    pipe.fit(X_train,y_train)\n",
    "    y_pred=pipe.predict(X_test)\n",
    "\n",
    "    acc=round(accuracy_score(y_test,y_pred),3)\n",
    "    print(f'Accuracy of {name} is: {acc}')\n",
    "\n",
    "    print(classification_report(y_test, y_pred))\n",
    "\n"
   ]
  }
 ],
 "metadata": {
  "kernelspec": {
   "display_name": "Python 3",
   "language": "python",
   "name": "python3"
  },
  "language_info": {
   "codemirror_mode": {
    "name": "ipython",
    "version": 3
   },
   "file_extension": ".py",
   "mimetype": "text/x-python",
   "name": "python",
   "nbconvert_exporter": "python",
   "pygments_lexer": "ipython3",
   "version": "3.8.10"
  }
 },
 "nbformat": 4,
 "nbformat_minor": 5
}
